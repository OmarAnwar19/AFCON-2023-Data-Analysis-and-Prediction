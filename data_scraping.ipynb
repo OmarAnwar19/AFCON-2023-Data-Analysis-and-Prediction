{
 "cells": [
  {
   "cell_type": "markdown",
   "metadata": {},
   "source": [
    "### "
   ]
  },
  {
   "cell_type": "markdown",
   "metadata": {},
   "source": [
    "### Imports"
   ]
  },
  {
   "cell_type": "code",
   "execution_count": 58,
   "metadata": {},
   "outputs": [],
   "source": [
    "from bs4 import BeautifulSoup\n",
    "import pandas as pd\n",
    "import requests\n",
    "import pickle\n",
    "import time\n",
    "from string import ascii_uppercase as alphabet"
   ]
  },
  {
   "cell_type": "markdown",
   "metadata": {},
   "source": [
    "### Scraping Historical and Fixture Data"
   ]
  },
  {
   "cell_type": "code",
   "execution_count": 59,
   "metadata": {},
   "outputs": [],
   "source": [
    "pd.set_option(\"display.max_columns\", None)"
   ]
  },
  {
   "cell_type": "code",
   "execution_count": 60,
   "metadata": {},
   "outputs": [],
   "source": [
    "# function to get all the matches for a given year\n",
    "def get_matches(year):\n",
    "    request_url = f\"https://en.wikipedia.org/wiki/{year}_Africa_Cup_of_Nations\"\n",
    "    res = requests.get(url=request_url).text\n",
    "\n",
    "    soup = BeautifulSoup(res, \"lxml\")\n",
    "    matches = soup.find_all(\"div\", {\"class\": \"footballbox\"})\n",
    "\n",
    "    data = []\n",
    "    for m in matches:\n",
    "        # extract the home, away, and score for each match\n",
    "        match = {}\n",
    "        match[\"home\"] = m.find(\"th\", {\"class\": \"fhome\"}).get_text()\n",
    "        match[\"away\"] = m.find(\"th\", {\"class\": \"faway\"}).get_text() \n",
    "        match[\"score\"] = m.find(\"th\", {\"class\": \"fscore\"}).get_text().split(\" \")[0]\n",
    "        match[\"year\"] = year\n",
    "        data.append(match)\n",
    "\n",
    "    return pd.DataFrame(data)"
   ]
  },
  {
   "cell_type": "code",
   "execution_count": 61,
   "metadata": {},
   "outputs": [
    {
     "name": "stdout",
     "output_type": "stream",
     "text": [
      "Scraping completed! - Total run time: 10.7seconds\n"
     ]
    }
   ],
   "source": [
    "years = [1957, 1959, 1962, 1963, 1965, 1968, 1970, 1972, 1974, 1976, 1978, 1980, 1982, 1984, 1986, 1988, 1990, 1992, 1994, 1996, 1998, 2000, 2002, 2004, 2006, 2008, 2010, 2012, 2013, 2015, 2017, 2019, 2021]\n",
    "\n",
    "begin_loop = time.time()\n",
    "match_dict = [get_matches(y) for y in years] # loop over all the years and get all the matches\n",
    "df = pd.concat(match_dict, ignore_index=True)\n",
    "\n",
    "print(f\"Scraping completed! - Total run time: {round((time.time() - begin_loop), 2)}seconds\")"
   ]
  },
  {
   "cell_type": "markdown",
   "metadata": {},
   "source": [
    "##### Exporting to CSV"
   ]
  },
  {
   "cell_type": "code",
   "execution_count": 62,
   "metadata": {},
   "outputs": [],
   "source": [
    "# historical data\n",
    "df.to_csv(\"data/afcon_historical_data.csv\", index=False)\n",
    "\n",
    "# fixture for 2023\n",
    "fixture = get_matches(\"2023\")\n",
    "fixture.to_csv(\"data/afcon_fixture_data.csv\", index=False)"
   ]
  },
  {
   "cell_type": "code",
   "execution_count": 63,
   "metadata": {},
   "outputs": [
    {
     "data": {
      "text/html": [
       "<div>\n",
       "<style scoped>\n",
       "    .dataframe tbody tr th:only-of-type {\n",
       "        vertical-align: middle;\n",
       "    }\n",
       "\n",
       "    .dataframe tbody tr th {\n",
       "        vertical-align: top;\n",
       "    }\n",
       "\n",
       "    .dataframe thead th {\n",
       "        text-align: right;\n",
       "    }\n",
       "</style>\n",
       "<table border=\"1\" class=\"dataframe\">\n",
       "  <thead>\n",
       "    <tr style=\"text-align: right;\">\n",
       "      <th></th>\n",
       "      <th>home</th>\n",
       "      <th>away</th>\n",
       "      <th>score</th>\n",
       "      <th>year</th>\n",
       "    </tr>\n",
       "  </thead>\n",
       "  <tbody>\n",
       "    <tr>\n",
       "      <th>0</th>\n",
       "      <td>Sudan</td>\n",
       "      <td>Egypt</td>\n",
       "      <td>1–2</td>\n",
       "      <td>1957</td>\n",
       "    </tr>\n",
       "    <tr>\n",
       "      <th>1</th>\n",
       "      <td>Ethiopia</td>\n",
       "      <td>South Africa</td>\n",
       "      <td>2–0</td>\n",
       "      <td>1957</td>\n",
       "    </tr>\n",
       "    <tr>\n",
       "      <th>2</th>\n",
       "      <td>Egypt</td>\n",
       "      <td>Ethiopia</td>\n",
       "      <td>4–0</td>\n",
       "      <td>1957</td>\n",
       "    </tr>\n",
       "    <tr>\n",
       "      <th>3</th>\n",
       "      <td>United Arab Republic</td>\n",
       "      <td>Ethiopia</td>\n",
       "      <td>4–0</td>\n",
       "      <td>1959</td>\n",
       "    </tr>\n",
       "    <tr>\n",
       "      <th>4</th>\n",
       "      <td>Sudan</td>\n",
       "      <td>Ethiopia</td>\n",
       "      <td>1–0</td>\n",
       "      <td>1959</td>\n",
       "    </tr>\n",
       "    <tr>\n",
       "      <th>...</th>\n",
       "      <td>...</td>\n",
       "      <td>...</td>\n",
       "      <td>...</td>\n",
       "      <td>...</td>\n",
       "    </tr>\n",
       "    <tr>\n",
       "      <th>741</th>\n",
       "      <td>Senegal</td>\n",
       "      <td>Equatorial Guinea</td>\n",
       "      <td>3–1</td>\n",
       "      <td>2021</td>\n",
       "    </tr>\n",
       "    <tr>\n",
       "      <th>742</th>\n",
       "      <td>Burkina Faso</td>\n",
       "      <td>Senegal</td>\n",
       "      <td>1–3</td>\n",
       "      <td>2021</td>\n",
       "    </tr>\n",
       "    <tr>\n",
       "      <th>743</th>\n",
       "      <td>Cameroon</td>\n",
       "      <td>Egypt</td>\n",
       "      <td>0–0</td>\n",
       "      <td>2021</td>\n",
       "    </tr>\n",
       "    <tr>\n",
       "      <th>744</th>\n",
       "      <td>Burkina Faso</td>\n",
       "      <td>Cameroon</td>\n",
       "      <td>3–3</td>\n",
       "      <td>2021</td>\n",
       "    </tr>\n",
       "    <tr>\n",
       "      <th>745</th>\n",
       "      <td>Senegal</td>\n",
       "      <td>Egypt</td>\n",
       "      <td>0–0</td>\n",
       "      <td>2021</td>\n",
       "    </tr>\n",
       "  </tbody>\n",
       "</table>\n",
       "<p>746 rows × 4 columns</p>\n",
       "</div>"
      ],
      "text/plain": [
       "                      home                away score  year\n",
       "0                   Sudan                Egypt   1–2  1957\n",
       "1                Ethiopia         South Africa   2–0  1957\n",
       "2                   Egypt             Ethiopia   4–0  1957\n",
       "3    United Arab Republic             Ethiopia   4–0  1959\n",
       "4                   Sudan             Ethiopia   1–0  1959\n",
       "..                     ...                 ...   ...   ...\n",
       "741               Senegal    Equatorial Guinea   3–1  2021\n",
       "742          Burkina Faso              Senegal   1–3  2021\n",
       "743              Cameroon                Egypt   0–0  2021\n",
       "744          Burkina Faso             Cameroon   3–3  2021\n",
       "745               Senegal                Egypt   0–0  2021\n",
       "\n",
       "[746 rows x 4 columns]"
      ]
     },
     "execution_count": 63,
     "metadata": {},
     "output_type": "execute_result"
    }
   ],
   "source": [
    "df"
   ]
  },
  {
   "cell_type": "code",
   "execution_count": 64,
   "metadata": {},
   "outputs": [
    {
     "data": {
      "text/html": [
       "<div>\n",
       "<style scoped>\n",
       "    .dataframe tbody tr th:only-of-type {\n",
       "        vertical-align: middle;\n",
       "    }\n",
       "\n",
       "    .dataframe tbody tr th {\n",
       "        vertical-align: top;\n",
       "    }\n",
       "\n",
       "    .dataframe thead th {\n",
       "        text-align: right;\n",
       "    }\n",
       "</style>\n",
       "<table border=\"1\" class=\"dataframe\">\n",
       "  <thead>\n",
       "    <tr style=\"text-align: right;\">\n",
       "      <th></th>\n",
       "      <th>home</th>\n",
       "      <th>away</th>\n",
       "      <th>score</th>\n",
       "      <th>year</th>\n",
       "    </tr>\n",
       "  </thead>\n",
       "  <tbody>\n",
       "    <tr>\n",
       "      <th>38</th>\n",
       "      <td>Winner Group A</td>\n",
       "      <td>3rd Group C/D/E</td>\n",
       "      <td>R3</td>\n",
       "      <td>2023</td>\n",
       "    </tr>\n",
       "    <tr>\n",
       "      <th>14</th>\n",
       "      <td>Senegal</td>\n",
       "      <td>Cameroon</td>\n",
       "      <td>v</td>\n",
       "      <td>2023</td>\n",
       "    </tr>\n",
       "    <tr>\n",
       "      <th>19</th>\n",
       "      <td>Burkina Faso</td>\n",
       "      <td>Mauritania</td>\n",
       "      <td>v</td>\n",
       "      <td>2023</td>\n",
       "    </tr>\n",
       "    <tr>\n",
       "      <th>2</th>\n",
       "      <td>Equatorial Guinea</td>\n",
       "      <td>Guinea-Bissau</td>\n",
       "      <td>v</td>\n",
       "      <td>2023</td>\n",
       "    </tr>\n",
       "    <tr>\n",
       "      <th>29</th>\n",
       "      <td>Namibia</td>\n",
       "      <td>Mali</td>\n",
       "      <td>v</td>\n",
       "      <td>2023</td>\n",
       "    </tr>\n",
       "    <tr>\n",
       "      <th>21</th>\n",
       "      <td>Mauritania</td>\n",
       "      <td>Angola</td>\n",
       "      <td>v</td>\n",
       "      <td>2023</td>\n",
       "    </tr>\n",
       "    <tr>\n",
       "      <th>7</th>\n",
       "      <td>Ghana</td>\n",
       "      <td>Cape Verde</td>\n",
       "      <td>v</td>\n",
       "      <td>2023</td>\n",
       "    </tr>\n",
       "    <tr>\n",
       "      <th>17</th>\n",
       "      <td>Gambia</td>\n",
       "      <td>Cameroon</td>\n",
       "      <td>v</td>\n",
       "      <td>2023</td>\n",
       "    </tr>\n",
       "    <tr>\n",
       "      <th>11</th>\n",
       "      <td>Cape Verde</td>\n",
       "      <td>Egypt</td>\n",
       "      <td>v</td>\n",
       "      <td>2023</td>\n",
       "    </tr>\n",
       "    <tr>\n",
       "      <th>46</th>\n",
       "      <td>Winner R7</td>\n",
       "      <td>Winner R6</td>\n",
       "      <td>QF3</td>\n",
       "      <td>2023</td>\n",
       "    </tr>\n",
       "  </tbody>\n",
       "</table>\n",
       "</div>"
      ],
      "text/plain": [
       "                  home             away score  year\n",
       "38      Winner Group A  3rd Group C/D/E    R3  2023\n",
       "14            Senegal          Cameroon     v  2023\n",
       "19       Burkina Faso        Mauritania     v  2023\n",
       "2   Equatorial Guinea     Guinea-Bissau     v  2023\n",
       "29            Namibia              Mali     v  2023\n",
       "21         Mauritania            Angola     v  2023\n",
       "7               Ghana        Cape Verde     v  2023\n",
       "17             Gambia          Cameroon     v  2023\n",
       "11         Cape Verde             Egypt     v  2023\n",
       "46           Winner R7        Winner R6   QF3  2023"
      ]
     },
     "execution_count": 64,
     "metadata": {},
     "output_type": "execute_result"
    }
   ],
   "source": [
    "fixture.sample(10)"
   ]
  }
 ],
 "metadata": {
  "kernelspec": {
   "display_name": "Python 3",
   "language": "python",
   "name": "python3"
  },
  "language_info": {
   "codemirror_mode": {
    "name": "ipython",
    "version": 3
   },
   "file_extension": ".py",
   "mimetype": "text/x-python",
   "name": "python",
   "nbconvert_exporter": "python",
   "pygments_lexer": "ipython3",
   "version": "3.11.3"
  },
  "orig_nbformat": 4
 },
 "nbformat": 4,
 "nbformat_minor": 2
}
